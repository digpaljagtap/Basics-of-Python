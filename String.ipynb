{
 "cells": [
  {
   "cell_type": "markdown",
   "id": "ca7bc266-f96f-4015-9876-27064e44c03d",
   "metadata": {},
   "source": [
    "# string (in,not in)"
   ]
  },
  {
   "cell_type": "code",
   "execution_count": 3,
   "id": "3462fe5f-7d9c-4caf-b94e-6f3519045129",
   "metadata": {},
   "outputs": [
    {
     "name": "stdout",
     "output_type": "stream",
     "text": [
      "True\n"
     ]
    }
   ],
   "source": [
    "a = \"burgbuorgbar3ioh\"\n",
    "print(\"bur\" in a) "
   ]
  },
  {
   "cell_type": "code",
   "execution_count": 5,
   "id": "da3f5be3-2795-47c3-9a9c-150b101b8089",
   "metadata": {},
   "outputs": [
    {
     "name": "stdout",
     "output_type": "stream",
     "text": [
      "Yes\n"
     ]
    }
   ],
   "source": [
    "a = \"uiegwfqouewb\"\n",
    "if \"wfq\" in a:\n",
    "    print(\"Yes\")"
   ]
  },
  {
   "cell_type": "code",
   "execution_count": 7,
   "id": "f7cf424d-0405-41d1-9811-a7d352c534d3",
   "metadata": {},
   "outputs": [
    {
     "name": "stdout",
     "output_type": "stream",
     "text": [
      "True\n"
     ]
    }
   ],
   "source": [
    "a = \"ugefokewbfk\"\n",
    "print(\"ugr\" not in a) # it wll give boolean value(True or false)"
   ]
  },
  {
   "cell_type": "markdown",
   "id": "9ce5650b-e554-429c-aaa0-f10fa4dfc093",
   "metadata": {},
   "source": [
    "# String Slicing"
   ]
  },
  {
   "cell_type": "code",
   "execution_count": 10,
   "id": "2ffdff6b-2872-4b76-8b47-fec92bd7a2fe",
   "metadata": {},
   "outputs": [
    {
     "name": "stdout",
     "output_type": "stream",
     "text": [
      "llo,\n"
     ]
    }
   ],
   "source": [
    "b = \"Hello, World!\"\n",
    "print(b[2:6]) # specific range frin 2 to 6 (it will not include 6)"
   ]
  },
  {
   "cell_type": "code",
   "execution_count": 12,
   "id": "e05381a5-a8b6-4901-ba20-8fdbabfc8112",
   "metadata": {},
   "outputs": [
    {
     "name": "stdout",
     "output_type": "stream",
     "text": [
      "llo, World!\n"
     ]
    }
   ],
   "source": [
    "b = \"Hello, World!\"\n",
    "print(b[2:]) # from 2nd to last"
   ]
  },
  {
   "cell_type": "code",
   "execution_count": 14,
   "id": "954e6397-e553-4218-a768-48ce8782f4e2",
   "metadata": {},
   "outputs": [
    {
     "name": "stdout",
     "output_type": "stream",
     "text": [
      "Hello\n"
     ]
    }
   ],
   "source": [
    "b = \"Hello, World!\"\n",
    "print(b[:5]) # from startng to 5 th "
   ]
  },
  {
   "cell_type": "code",
   "execution_count": 24,
   "id": "2efd4a70-4225-451f-bac6-26b6e9b2fd28",
   "metadata": {},
   "outputs": [
    {
     "name": "stdout",
     "output_type": "stream",
     "text": [
      "orl\n"
     ]
    }
   ],
   "source": [
    "b = \"Hello, World!\"\n",
    "print(b[-5:-2]) # from ending (- indicates start slicing from end )"
   ]
  },
  {
   "cell_type": "markdown",
   "id": "2acc5b9e-c540-47c0-aa28-e916038bcabc",
   "metadata": {},
   "source": [
    "# String modifying"
   ]
  },
  {
   "cell_type": "code",
   "execution_count": 27,
   "id": "e9d5cea6-829a-4f5b-b1b0-df65ff1b5b93",
   "metadata": {},
   "outputs": [
    {
     "name": "stdout",
     "output_type": "stream",
     "text": [
      "HELLO, WORLD!\n"
     ]
    }
   ],
   "source": [
    "b = \"Hello, World!\"\n",
    "print(b.upper())"
   ]
  },
  {
   "cell_type": "code",
   "execution_count": 29,
   "id": "a3c8a40f-6ee1-4277-8170-78b452a9f393",
   "metadata": {},
   "outputs": [
    {
     "name": "stdout",
     "output_type": "stream",
     "text": [
      "hello, world!\n"
     ]
    }
   ],
   "source": [
    "b = \"Hello, World!\"\n",
    "print(b.lower())"
   ]
  },
  {
   "cell_type": "code",
   "execution_count": 31,
   "id": "88a28ec3-b674-46d8-a06f-b33ae7087723",
   "metadata": {},
   "outputs": [
    {
     "name": "stdout",
     "output_type": "stream",
     "text": [
      "Hello, World!\n"
     ]
    }
   ],
   "source": [
    "a = \" Hello, World! \" # remove space from start and end\n",
    "print(a.strip()) # returns \"Hello, World!\""
   ]
  },
  {
   "cell_type": "code",
   "execution_count": 33,
   "id": "46848a62-80e1-4416-8ae9-e4ba2c945b12",
   "metadata": {},
   "outputs": [
    {
     "name": "stdout",
     "output_type": "stream",
     "text": [
      "Jello, World!\n"
     ]
    }
   ],
   "source": [
    "a = \"Hello, World!\"\n",
    "print(a.replace(\"H\",\"J\")) # it will replace H with J"
   ]
  },
  {
   "cell_type": "code",
   "execution_count": 35,
   "id": "044ae9bf-6fcb-4d71-a4b6-23dd8e2bcf25",
   "metadata": {},
   "outputs": [
    {
     "name": "stdout",
     "output_type": "stream",
     "text": [
      "['Hello', ' World!']\n"
     ]
    }
   ],
   "source": [
    "a = \"Hello, World!\"\n",
    "print(a.split(\",\")) # returns ['Hello', ' World!']"
   ]
  },
  {
   "cell_type": "markdown",
   "id": "c4d734f9-3096-45f5-ab3c-4afe25011c6d",
   "metadata": {},
   "source": [
    "# concatenation "
   ]
  },
  {
   "cell_type": "code",
   "execution_count": 40,
   "id": "03a2bd90-c2c8-40ad-8bf9-07b5fe6f7a5f",
   "metadata": {},
   "outputs": [
    {
     "name": "stdout",
     "output_type": "stream",
     "text": [
      "HelloWorld\n"
     ]
    }
   ],
   "source": [
    "a = \"Hello\"\n",
    "b = \"World\"\n",
    "c = a + b # it will directly concatenate both strings without space \n",
    "print(c)"
   ]
  },
  {
   "cell_type": "code",
   "execution_count": 42,
   "id": "9f620dc5-83a1-4547-96b5-2f38e6515a0f",
   "metadata": {},
   "outputs": [
    {
     "name": "stdout",
     "output_type": "stream",
     "text": [
      "Hello World\n"
     ]
    }
   ],
   "source": [
    "a = \"Hello\"\n",
    "b = \"World\"\n",
    "c = a + \" \" + b # it will concatenate strings with space\n",
    "print(c)"
   ]
  },
  {
   "cell_type": "markdown",
   "id": "a255695a-8a28-4bbd-b550-7b89400d179d",
   "metadata": {},
   "source": [
    "# Format Strings"
   ]
  },
  {
   "cell_type": "code",
   "execution_count": 45,
   "id": "08d8d01d-f0c1-4d61-9835-2136ed34ca4a",
   "metadata": {},
   "outputs": [
    {
     "name": "stdout",
     "output_type": "stream",
     "text": [
      "hii deep\n"
     ]
    }
   ],
   "source": [
    "a = \"deep\"\n",
    "b = f\"hii {a}\"\n",
    "print(b)"
   ]
  },
  {
   "cell_type": "markdown",
   "id": "6fd6cc49-8498-4dbb-b569-b1fb8123619e",
   "metadata": {},
   "source": [
    "# F-Strings"
   ]
  },
  {
   "cell_type": "code",
   "execution_count": 53,
   "id": "8bfdc7ec-e738-4c10-836c-b6621daf96dd",
   "metadata": {},
   "outputs": [
    {
     "name": "stdout",
     "output_type": "stream",
     "text": [
      "My name is deep, I am 24\n"
     ]
    }
   ],
   "source": [
    "age = 24\n",
    "txt = f\"My name is deep, I am {age}\"\n",
    "print(txt)"
   ]
  },
  {
   "cell_type": "markdown",
   "id": "37fdb322-a064-4631-8c00-af5986da1249",
   "metadata": {},
   "source": [
    "### laceholders and Modifiers"
   ]
  },
  {
   "cell_type": "code",
   "execution_count": 51,
   "id": "f5da4540-8082-4df4-859f-5f7b61bf1886",
   "metadata": {},
   "outputs": [
    {
     "name": "stdout",
     "output_type": "stream",
     "text": [
      "The price is 59 dollars\n"
     ]
    }
   ],
   "source": [
    "price = 59\n",
    "txt = f\"The price is {price} dollars\" # .2f point number with 2 decimal\n",
    "print(txt)"
   ]
  },
  {
   "cell_type": "code",
   "execution_count": 57,
   "id": "28856858-af77-4eaf-a6cb-56d83f3afa5f",
   "metadata": {},
   "outputs": [
    {
     "name": "stdout",
     "output_type": "stream",
     "text": [
      "The price is 59.0 dollars\n"
     ]
    }
   ],
   "source": [
    "price = 59\n",
    "txt = f\"The price is {price:.1f} dollars\" # .2f point number with 2 decimal\n",
    "print(txt)"
   ]
  },
  {
   "cell_type": "code",
   "execution_count": 59,
   "id": "56c804a0-5345-4d75-aaa9-928b0ca7946b",
   "metadata": {},
   "outputs": [
    {
     "name": "stdout",
     "output_type": "stream",
     "text": [
      "The price is 1180 dollars\n"
     ]
    }
   ],
   "source": [
    "txt = f\"The price is {20 * 59} dollars\"\n",
    "print(txt)"
   ]
  },
  {
   "cell_type": "code",
   "execution_count": 65,
   "id": "39089a55-e654-49bb-8c8f-67ade3cf27cb",
   "metadata": {},
   "outputs": [
    {
     "name": "stdout",
     "output_type": "stream",
     "text": [
      "We are the so-called \"Indians\" from the West.\n"
     ]
    }
   ],
   "source": [
    "a = \"We are the so-called \\\"Indians\\\" from the West.\"\n",
    "print(a)"
   ]
  },
  {
   "cell_type": "raw",
   "id": "05ba3758-c385-41ad-a88e-1ab564747b0f",
   "metadata": {},
   "source": [
    "Code\tResult\t\n",
    "\\'\t    Single Quote\t\n",
    "\\\\\t    Backslash\t\n",
    "\\n\t    New Line\t\n",
    "\\r\t    Carriage Return\t\n",
    "\\t\t    Tab\t\n",
    "\\b\t    Backspace\t\n",
    "\\f\t    Form Feed\t\n",
    "\\ooo\tOctal value\t\n",
    "\\xhh\tHex value"
   ]
  },
  {
   "cell_type": "code",
   "execution_count": null,
   "id": "5df7157c-5daa-42ac-9000-3862aaacc439",
   "metadata": {},
   "outputs": [],
   "source": []
  }
 ],
 "metadata": {
  "kernelspec": {
   "display_name": "Python 3 (ipykernel)",
   "language": "python",
   "name": "python3"
  },
  "language_info": {
   "codemirror_mode": {
    "name": "ipython",
    "version": 3
   },
   "file_extension": ".py",
   "mimetype": "text/x-python",
   "name": "python",
   "nbconvert_exporter": "python",
   "pygments_lexer": "ipython3",
   "version": "3.12.4"
  }
 },
 "nbformat": 4,
 "nbformat_minor": 5
}
